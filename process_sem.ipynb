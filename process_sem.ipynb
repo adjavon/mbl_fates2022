{
 "cells": [
  {
   "cell_type": "code",
   "execution_count": 15,
   "metadata": {},
   "outputs": [],
   "source": [
    "import matplotlib.pyplot as plt\n",
    "import numpy as np\n",
    "import pandas as pd\n",
    "from skimage.measure import regionprops\n",
    "import os\n",
    "from skimage.io import imread\n",
    "from skimage import segmentation\n",
    "import csv\n",
    "import random\n",
    "import scipy.stats as stats\n",
    "import glob"
   ]
  },
  {
   "cell_type": "code",
   "execution_count": 13,
   "metadata": {},
   "outputs": [],
   "source": [
    "train_path = \"Desktop/DL@MBL_data/synapse/train/\""
   ]
  },
  {
   "cell_type": "code",
   "execution_count": 33,
   "metadata": {},
   "outputs": [],
   "source": [
    "for i in os.listdir(train_path):\n",
    "    if i != \".DS_Store\":\n",
    "        block_ls = os.listdir(os.path.join(train_path, i))\n",
    "        for j in block_ls:\n",
    "            if j != \".DS_Store\":\n",
    "                label_path = os.path.join(train_path, i, j, \"labels\")\n",
    "                for x in glob.glob(label_path):\n",
    "                    if x != \".DS_Store\":\n",
    "                        src = os.path.join(label_path, )"
   ]
  },
  {
   "cell_type": "code",
   "execution_count": 36,
   "metadata": {},
   "outputs": [
    {
     "data": {
      "text/plain": [
       "['Desktop/DL@MBL_data/synapse/train/F1V/block6/labels']"
      ]
     },
     "execution_count": 36,
     "metadata": {},
     "output_type": "execute_result"
    }
   ],
   "source": [
    "a = glob.glob(os.path.join(train_path, \"F1V\", \"block6\", \"labels\"))\n",
    "a"
   ]
  },
  {
   "cell_type": "code",
   "execution_count": null,
   "metadata": {},
   "outputs": [],
   "source": []
  }
 ],
 "metadata": {
  "kernelspec": {
   "display_name": "Python 3",
   "language": "python",
   "name": "python3"
  },
  "language_info": {
   "codemirror_mode": {
    "name": "ipython",
    "version": 3
   },
   "file_extension": ".py",
   "mimetype": "text/x-python",
   "name": "python",
   "nbconvert_exporter": "python",
   "pygments_lexer": "ipython3",
   "version": "3.8.3"
  }
 },
 "nbformat": 4,
 "nbformat_minor": 4
}
